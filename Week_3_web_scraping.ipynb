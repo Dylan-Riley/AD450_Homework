{
  "nbformat": 4,
  "nbformat_minor": 0,
  "metadata": {
    "colab": {
      "name": "Week 3 web scraping.ipynb",
      "provenance": [],
      "collapsed_sections": []
    },
    "kernelspec": {
      "name": "python3",
      "display_name": "Python 3"
    },
    "language_info": {
      "name": "python"
    }
  },
  "cells": [
    {
      "cell_type": "markdown",
      "source": [
        "# Week 3 -- Web Scraping Project\n",
        "\n",
        "Create a Jupyter notebook with code to load & analyze Covid case metrics from   https://www.worldometers.info/coronavirus/country/us/#nav-yesterday\n",
        "\n",
        "Upload your completed notebook to a public github.com repo for your AD450 coursework and submit a link to the uploaded file in Canvas.\n",
        "\n",
        "Your notebook should have well identified sections that:\n",
        "\n",
        "* load state-level data from the provided web url into a Pandas dataframe with these requirements:\n",
        "  * dataframe column names should match the HTML column headers\n",
        "  * exclude the '#', 'source', and 'projections' columns \n",
        "  * exclude rows for country totals\n",
        "  * state column should contain just the state name (no HTML)\n",
        "* describe the dataframe by printing the first few rows\n",
        "* print dataframe summary statistics \n",
        "* print the the top 5 states (name & value) for each of these metrics:\n",
        "  * new cases\n",
        "  * total deaths\n",
        "  * total cases / 1M pop\n",
        "  * total deaths / 1M pop\n",
        "\n",
        "NOTE:\n",
        "\n",
        "Each notebook section should include text description and code that can be executed successfully\n"
      ],
      "metadata": {
        "id": "_A3UEvnb85uu"
      }
    },
    {
      "cell_type": "code",
      "execution_count": null,
      "metadata": {
        "id": "i1p84YFf84JH"
      },
      "outputs": [],
      "source": [
        "import pandas as pd\n",
        "import requests\n",
        "from bs4 import BeautifulSoup"
      ]
    },
    {
      "cell_type": "markdown",
      "source": [
        "Load data from Worldometer:"
      ],
      "metadata": {
        "id": "qhc3ne3h9psO"
      }
    },
    {
      "cell_type": "code",
      "source": [
        "url = \"https://www.worldometers.info/coronavirus/country/us/#nav-yesterday\"\n",
        "response = requests.get(url)\n",
        "print(response)\n",
        "\n",
        "soup = BeautifulSoup(response.text, \"html.parser\")\n",
        "table = soup.find(\"table\", id=\"usa_table_countries_today\")\n",
        "body = table.find(\"tbody\")\n",
        "body.find(\"tr\", class_=\"total_row_usa\").decompose()\n",
        "\n",
        "table_data = []\n",
        "for row in body.find_all(\"tr\"):\n",
        "  row_data = []\n",
        "  for cell in row.findAll(\"td\"):\n",
        "    row_data.append(cell.text)\n",
        "  if(len(row_data) > 0):\n",
        "    data_item = {\"State\": row_data[1][1:],\n",
        "                 \"Total_Cases\": row_data[2],\n",
        "                 \"New_Cases\": row_data[3][1:],\n",
        "                 \"Total_Deaths\": int(row_data[4][1:].replace(',','')),\n",
        "                 \"New_Deaths\": row_data[5],\n",
        "                 \"Total_Recovered\": row_data[6][1:],\n",
        "                 \"Active_Cases\": row_data[7][1:],\n",
        "                 \"Total_Cases_Per_1M_Pop\": int(row_data[8].replace(',','')),\n",
        "                 \"Deaths_Per_1M_Pop\": int(row_data[9].replace(',','')),\n",
        "                 \"Total_Tests\": row_data[10][1:],\n",
        "                 \"Tests_Per_1M_Pop\": row_data[11],\n",
        "                 \"Population\": row_data[12][1:]}\n",
        "    table_data.append(data_item)\n",
        "\n",
        "df = pd.DataFrame(table_data)\n"
      ],
      "metadata": {
        "id": "EyiEFp5O97aF"
      },
      "execution_count": null,
      "outputs": []
    },
    {
      "cell_type": "markdown",
      "source": [
        "Describe the dataframe by printing the first few rows"
      ],
      "metadata": {
        "id": "1r4uR9hEXmfA"
      }
    },
    {
      "cell_type": "code",
      "source": [
        "pd.set_option(\"display.max_columns\",4)\n",
        "print(df.head())"
      ],
      "metadata": {
        "id": "8Sbzdp1TXqIw"
      },
      "execution_count": null,
      "outputs": []
    },
    {
      "cell_type": "markdown",
      "source": [
        "Print dataframe summary statistics"
      ],
      "metadata": {
        "id": "NdIcqGpOXvRl"
      }
    },
    {
      "cell_type": "code",
      "source": [
        "print(df.describe())\n",
        "print(\"shape: \" + str(df.shape))"
      ],
      "metadata": {
        "id": "99L3FvNWXydL"
      },
      "execution_count": null,
      "outputs": []
    },
    {
      "cell_type": "markdown",
      "source": [
        "Print the top 5 states (name and value) for each of these metrics"
      ],
      "metadata": {
        "id": "KweRPRKGZz5y"
      }
    },
    {
      "cell_type": "code",
      "source": [
        "# New Cases\n",
        "# This column was borked on my input, so I'll do it out but don't expect much\n",
        "top_new_cases = df.sort_values(\"New_Cases\", ascending=False)\n",
        "print(top_new_cases[[\"State\",\"New_Cases\"]].head(5))"
      ],
      "metadata": {
        "id": "DF6yzlwdZ7BO"
      },
      "execution_count": null,
      "outputs": []
    },
    {
      "cell_type": "code",
      "source": [
        "# Total Deaths\n",
        "top_deaths = df.sort_values(\"Total_Deaths\", ascending=False)\n",
        "print(top_deaths[[\"State\",\"Total_Deaths\"]].head(5))"
      ],
      "metadata": {
        "id": "ALJm9mi2bThP"
      },
      "execution_count": null,
      "outputs": []
    },
    {
      "cell_type": "code",
      "source": [
        "# Total Cases per 1M pop\n",
        "top_cases_per_pop = df.sort_values(\"Total_Cases_Per_1M_Pop\", ascending=False)\n",
        "print(top_cases_per_pop[[\"State\",\"Total_Cases_Per_1M_Pop\"]].head(5))"
      ],
      "metadata": {
        "id": "ThFZ0ECTdF_9"
      },
      "execution_count": null,
      "outputs": []
    },
    {
      "cell_type": "code",
      "source": [
        "# Total Deaths per 1M pop\n",
        "top_deaths_per_pop = df.sort_values(\"Deaths_Per_1M_Pop\", ascending=False)\n",
        "print(top_deaths_per_pop[[\"State\",\"Deaths_Per_1M_Pop\"]].head(5))"
      ],
      "metadata": {
        "id": "17-TPt5LddtM"
      },
      "execution_count": null,
      "outputs": []
    },
    {
      "cell_type": "markdown",
      "source": [
        "Below was to check column names and such"
      ],
      "metadata": {
        "id": "1YEWGUojZ7c_"
      }
    },
    {
      "cell_type": "code",
      "source": [
        "# For testing purposes, run at your own risk\n",
        "pd.set_option(\"display.max_rows\",None,\"display.max_columns\",None)\n",
        "print(df)"
      ],
      "metadata": {
        "id": "rZnY2f1JYJzW"
      },
      "execution_count": null,
      "outputs": []
    }
  ]
}